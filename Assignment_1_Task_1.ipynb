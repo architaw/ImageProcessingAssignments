{
  "nbformat": 4,
  "nbformat_minor": 0,
  "metadata": {
    "kernelspec": {
      "display_name": "Python 3",
      "language": "python",
      "name": "python3"
    },
    "language_info": {
      "codemirror_mode": {
        "name": "ipython",
        "version": 3
      },
      "file_extension": ".py",
      "mimetype": "text/x-python",
      "name": "python",
      "nbconvert_exporter": "python",
      "pygments_lexer": "ipython3",
      "version": "3.7.6"
    },
    "colab": {
      "name": "Assignment_1_Task_1.ipynb",
      "provenance": [],
      "include_colab_link": true
    }
  },
  "cells": [
    {
      "cell_type": "markdown",
      "metadata": {
        "id": "view-in-github",
        "colab_type": "text"
      },
      "source": [
        "<a href=\"https://colab.research.google.com/github/architaw/ImageProcessingAssignments/blob/master/Assignment_1_Task_1.ipynb\" target=\"_parent\"><img src=\"https://colab.research.google.com/assets/colab-badge.svg\" alt=\"Open In Colab\"/></a>"
      ]
    },
    {
      "cell_type": "code",
      "metadata": {
        "id": "-RL_XpxnQwce",
        "colab_type": "code",
        "colab": {}
      },
      "source": [
        "# Copyright 2020 IITK EE604A Image Processing. All Rights Reserved.\n",
        "# \n",
        "# Licensed under the MIT License. Use and/or modification of this code outside of EE604 must reference:\n",
        "#\n",
        "# © IITK EE604A Image Processing \n",
        "# https://github.com/ee604/ee604_assignments\n",
        "#\n",
        "# Author: Shashi Kant Gupta, Chiranjeev Prachand and Prof K. S. Venkatesh, Department of Electrical Engineering, IIT Kanpur"
      ],
      "execution_count": null,
      "outputs": []
    },
    {
      "cell_type": "markdown",
      "metadata": {
        "id": "MGwd4p9XQwci",
        "colab_type": "text"
      },
      "source": [
        "# Task 1: Basic Operation on Images - Number Display\n",
        "\n",
        "In this task, you have to write a simple [Halftoning Program](https://en.wikipedia.org/wiki/Halftone) to create a B&W number display. Aim for this assignment is to check your basic image manipulation skills.\n",
        "\n",
        "Our Number Display should contain **3 digits**. Each digit should be made using **5x3 dot patterns** (Radius of dot patterns should be **25 pixels**. A single digit should enclose within a rectangle of **300x180 pixels**. Your number display should enclose within a rectangle of **300x660 pixel** wide rectangle. There should be a space of **60 pixels** between two digits.\n",
        "\n",
        "**This is how your display should be if N = 123:**\n",
        "\n",
        "![](https://github.com/ee604/ee604_assignments/raw/master/assignment_1/imgs/t1_example.jpg)\n",
        "\n",
        "**Examples of single digits**\n",
        "\n",
        "![](https://github.com/ee604/ee604_assignments/raw/master/assignment_1/imgs/t1_digits.jpg)"
      ]
    },
    {
      "cell_type": "code",
      "metadata": {
        "id": "50p0cVtxQwcj",
        "colab_type": "code",
        "colab": {
          "base_uri": "https://localhost:8080/",
          "height": 185
        },
        "outputId": "2956d08b-d46b-4b58-9871-12bc28b6acda"
      },
      "source": [
        "%%bash\n",
        "pip install git+https://github.com/ee604/ee604_plugins"
      ],
      "execution_count": null,
      "outputs": [
        {
          "output_type": "stream",
          "text": [
            "Collecting git+https://github.com/ee604/ee604_plugins\n",
            "  Cloning https://github.com/ee604/ee604_plugins to /tmp/pip-req-build-r00b7aze\n",
            "Requirement already satisfied (use --upgrade to upgrade): ee604-plugins==0.1.2 from git+https://github.com/ee604/ee604_plugins in /usr/local/lib/python3.6/dist-packages\n",
            "Building wheels for collected packages: ee604-plugins\n",
            "  Building wheel for ee604-plugins (setup.py): started\n",
            "  Building wheel for ee604-plugins (setup.py): finished with status 'done'\n",
            "  Created wheel for ee604-plugins: filename=ee604_plugins-0.1.2-cp36-none-any.whl size=2083 sha256=0bfc2151282e2009e6f82bab4cab6088bf86b5dbca1d34fcc0e667d3a8dc846a\n",
            "  Stored in directory: /tmp/pip-ephem-wheel-cache-nwwz896v/wheels/34/a8/1d/ae3b7d209ecde89b4800a47ec55a61e7503bb9548bbb975806\n",
            "Successfully built ee604-plugins\n"
          ],
          "name": "stdout"
        },
        {
          "output_type": "stream",
          "text": [
            "  Running command git clone -q https://github.com/ee604/ee604_plugins /tmp/pip-req-build-r00b7aze\n"
          ],
          "name": "stderr"
        }
      ]
    },
    {
      "cell_type": "code",
      "metadata": {
        "id": "j_RLdCFMQwcm",
        "colab_type": "code",
        "colab": {}
      },
      "source": [
        "# Importing required libraries\n",
        "\n",
        "import cv2\n",
        "import numpy as np\n",
        "from ee604_plugins import cv2_imshow"
      ],
      "execution_count": null,
      "outputs": []
    },
    {
      "cell_type": "code",
      "metadata": {
        "id": "ky3Tf3ERQ0iS",
        "colab_type": "code",
        "colab": {}
      },
      "source": [
        ""
      ],
      "execution_count": null,
      "outputs": []
    },
    {
      "cell_type": "code",
      "metadata": {
        "id": "bEaK9M9oQwco",
        "colab_type": "code",
        "colab": {}
      },
      "source": [
        "def generate_number_display(N=125):\n",
        "    '''\n",
        "    Write your program to generate 3 digit number display as described above. \n",
        "    Digits should be white and background black.\n",
        "    \n",
        "    Inputs:\n",
        "    + N - A '3' digit number to be printed.\n",
        "    \n",
        "    Ouputs:\n",
        "    + out_img - your 300x660 numpy array (of dtype np.uint8) as the display image.\n",
        "              - For white pixel use value = 255\n",
        "              - For black pixel use value = 0\n",
        "    \n",
        "    Allowed external package:\n",
        "    + You can use cv2.circle to draw dots. \n",
        "    + You are not allowed to use any other external package.\n",
        "    \n",
        "    Hint:\n",
        "    + Create a masking array to place white dots across a black 300x660 display image.\n",
        "    \n",
        "    '''\n",
        "    out_img = np.zeros((300, 660), dtype=np.uint8) # Intialise with blank display\n",
        "    \n",
        "    #############################\n",
        "    # Start your code from here #\n",
        "    #############################\n",
        "    def draw1(out_img, centX, centY):\n",
        "      out_img = cv2.circle(out_img, (centX,centY-120), 25, (255,255,255), -1)\n",
        "      out_img = cv2.circle(out_img, (centX,centY-60), 25, (255,255,255), -1)\n",
        "      out_img = cv2.circle(out_img, (centX,centY), 25, (255,255,255), -1)\n",
        "      out_img = cv2.circle(out_img, (centX,centY+60), 25, (255,255,255), -1)\n",
        "      out_img = cv2.circle(out_img, (centX,centY+120), 25, (255,255,255), -1)\n",
        "    def draw2(out_img, centX, centY):\n",
        "      out_img = cv2.circle(out_img, (centX,centY-120), 25, (255,255,255), -1)\n",
        "      out_img = cv2.circle(out_img, (centX,centY), 25, (255,255,255), -1)\n",
        "      out_img = cv2.circle(out_img, (centX,centY+120), 25, (255,255,255), -1)\n",
        "      centX = centX - 60\n",
        "      out_img = cv2.circle(out_img, (centX,centY-120), 25, (255,255,255), -1)\n",
        "      out_img = cv2.circle(out_img, (centX,centY+60), 25, (255,255,255), -1)\n",
        "      out_img = cv2.circle(out_img, (centX,centY), 25, (255,255,255), -1)\n",
        "      out_img = cv2.circle(out_img, (centX,centY+120), 25, (255,255,255), -1)\n",
        "      centX = centX +120\n",
        "      out_img = cv2.circle(out_img, (centX,centY-120), 25, (255,255,255), -1)\n",
        "      out_img = cv2.circle(out_img, (centX,centY), 25, (255,255,255), -1)\n",
        "      out_img = cv2.circle(out_img, (centX,centY-60), 25, (255,255,255), -1)\n",
        "      out_img = cv2.circle(out_img, (centX,centY+120), 25, (255,255,255), -1)\n",
        "    def draw3(out_img, centX, centY):\n",
        "      out_img = cv2.circle(out_img, (centX,centY-120), 25, (255,255,255), -1)\n",
        "      out_img = cv2.circle(out_img, (centX,centY), 25, (255,255,255), -1)\n",
        "      out_img = cv2.circle(out_img, (centX,centY+120), 25, (255,255,255), -1)\n",
        "      centX = centX - 60\n",
        "      out_img = cv2.circle(out_img, (centX,centY-120), 25, (255,255,255), -1)\n",
        "      out_img = cv2.circle(out_img, (centX,centY), 25, (255,255,255), -1)\n",
        "      out_img = cv2.circle(out_img, (centX,centY+120), 25, (255,255,255), -1)\n",
        "      centX = centX +120\n",
        "      out_img = cv2.circle(out_img, (centX,centY-120), 25, (255,255,255), -1)\n",
        "      out_img = cv2.circle(out_img, (centX,centY-60), 25, (255,255,255), -1)\n",
        "      out_img = cv2.circle(out_img, (centX,centY), 25, (255,255,255), -1)\n",
        "      out_img = cv2.circle(out_img, (centX,centY+60), 25, (255,255,255), -1)\n",
        "      out_img = cv2.circle(out_img, (centX,centY+120), 25, (255,255,255), -1)\n",
        "    def draw4(out_img, centX, centY):\n",
        "      out_img = cv2.circle(out_img, (centX,centY), 25, (255,255,255), -1)\n",
        "      centX = centX - 60\n",
        "      out_img = cv2.circle(out_img, (centX,centY), 25, (255,255,255), -1)\n",
        "      out_img = cv2.circle(out_img, (centX,centY-60), 25, (255,255,255), -1)\n",
        "      out_img = cv2.circle(out_img, (centX,centY-120), 25, (255,255,255), -1)\n",
        "      centX = centX +120\n",
        "      out_img = cv2.circle(out_img, (centX,centY-120), 25, (255,255,255), -1)\n",
        "      out_img = cv2.circle(out_img, (centX,centY-60), 25, (255,255,255), -1)\n",
        "      out_img = cv2.circle(out_img, (centX,centY), 25, (255,255,255), -1)\n",
        "      out_img = cv2.circle(out_img, (centX,centY+60), 25, (255,255,255), -1)\n",
        "      out_img = cv2.circle(out_img, (centX,centY+120), 25, (255,255,255), -1)\n",
        "    def draw5(out_img, centX, centY):\n",
        "      out_img = cv2.circle(out_img, (centX,centY-120), 25, (255,255,255), -1)\n",
        "      out_img = cv2.circle(out_img, (centX,centY), 25, (255,255,255), -1)\n",
        "      out_img = cv2.circle(out_img, (centX,centY+120), 25, (255,255,255), -1)\n",
        "      centX = centX - 60\n",
        "      out_img = cv2.circle(out_img, (centX,centY-120), 25, (255,255,255), -1)\n",
        "      out_img = cv2.circle(out_img, (centX,centY), 25, (255,255,255), -1)\n",
        "      out_img = cv2.circle(out_img, (centX,centY-60), 25, (255,255,255), -1)\n",
        "      out_img = cv2.circle(out_img, (centX,centY+120), 25, (255,255,255), -1)\n",
        "      centX = centX +120\n",
        "      out_img = cv2.circle(out_img, (centX,centY-120), 25, (255,255,255), -1)\n",
        "      out_img = cv2.circle(out_img, (centX,centY+60), 25, (255,255,255), -1)\n",
        "      out_img = cv2.circle(out_img, (centX,centY), 25, (255,255,255), -1)\n",
        "      out_img = cv2.circle(out_img, (centX,centY+120), 25, (255,255,255), -1)\n",
        "    def draw6(out_img, centX, centY):\n",
        "      out_img = cv2.circle(out_img, (centX,centY-120), 25, (255,255,255), -1)\n",
        "      out_img = cv2.circle(out_img, (centX,centY), 25, (255,255,255), -1)\n",
        "      out_img = cv2.circle(out_img, (centX,centY+120), 25, (255,255,255), -1)\n",
        "      centX = centX - 60\n",
        "      out_img = cv2.circle(out_img, (centX,centY-120), 25, (255,255,255), -1)\n",
        "      out_img = cv2.circle(out_img, (centX,centY-60), 25, (255,255,255), -1)\n",
        "      out_img = cv2.circle(out_img, (centX,centY), 25, (255,255,255), -1)\n",
        "      out_img = cv2.circle(out_img, (centX,centY+60), 25, (255,255,255), -1)\n",
        "      out_img = cv2.circle(out_img, (centX,centY+120), 25, (255,255,255), -1)\n",
        "      centX = centX +120\n",
        "      out_img = cv2.circle(out_img, (centX,centY-120), 25, (255,255,255), -1)\n",
        "      out_img = cv2.circle(out_img, (centX,centY+60), 25, (255,255,255), -1)\n",
        "      out_img = cv2.circle(out_img, (centX,centY), 25, (255,255,255), -1)\n",
        "      out_img = cv2.circle(out_img, (centX,centY+120), 25, (255,255,255), -1)\n",
        "    def draw7(out_img, centX, centY):\n",
        "      out_img = cv2.circle(out_img, (centX,centY-120), 25, (255,255,255), -1)\n",
        "      centX = centX - 60\n",
        "      out_img = cv2.circle(out_img, (centX,centY-120), 25, (255,255,255), -1)\n",
        "      centX = centX +120\n",
        "      out_img = cv2.circle(out_img, (centX,centY-120), 25, (255,255,255), -1)\n",
        "      out_img = cv2.circle(out_img, (centX,centY-60), 25, (255,255,255), -1)\n",
        "      out_img = cv2.circle(out_img, (centX,centY), 25, (255,255,255), -1)\n",
        "      out_img = cv2.circle(out_img, (centX,centY+60), 25, (255,255,255), -1)\n",
        "      out_img = cv2.circle(out_img, (centX,centY+120), 25, (255,255,255), -1)\n",
        "    def draw8(out_img, centX, centY):\n",
        "      out_img = cv2.circle(out_img, (centX,centY-120), 25, (255,255,255), -1)\n",
        "      out_img = cv2.circle(out_img, (centX,centY), 25, (255,255,255), -1)\n",
        "      out_img = cv2.circle(out_img, (centX,centY+120), 25, (255,255,255), -1)\n",
        "      centX = centX - 60\n",
        "      out_img = cv2.circle(out_img, (centX,centY-120), 25, (255,255,255), -1)\n",
        "      out_img = cv2.circle(out_img, (centX,centY-60), 25, (255,255,255), -1)\n",
        "      out_img = cv2.circle(out_img, (centX,centY), 25, (255,255,255), -1)\n",
        "      out_img = cv2.circle(out_img, (centX,centY+60), 25, (255,255,255), -1)\n",
        "      out_img = cv2.circle(out_img, (centX,centY+120), 25, (255,255,255), -1)\n",
        "      centX = centX +120\n",
        "      out_img = cv2.circle(out_img, (centX,centY-120), 25, (255,255,255), -1)\n",
        "      out_img = cv2.circle(out_img, (centX,centY-60), 25, (255,255,255), -1)\n",
        "      out_img = cv2.circle(out_img, (centX,centY), 25, (255,255,255), -1)\n",
        "      out_img = cv2.circle(out_img, (centX,centY+60), 25, (255,255,255), -1)\n",
        "      out_img = cv2.circle(out_img, (centX,centY+120), 25, (255,255,255), -1)\n",
        "    def draw9(out_img, centX, centY):\n",
        "      out_img = cv2.circle(out_img, (centX,centY-120), 25, (255,255,255), -1)\n",
        "      out_img = cv2.circle(out_img, (centX,centY), 25, (255,255,255), -1)\n",
        "      out_img = cv2.circle(out_img, (centX,centY+120), 25, (255,255,255), -1)\n",
        "      centX = centX - 60\n",
        "      out_img = cv2.circle(out_img, (centX,centY-120), 25, (255,255,255), -1)\n",
        "      out_img = cv2.circle(out_img, (centX,centY), 25, (255,255,255), -1)\n",
        "      out_img = cv2.circle(out_img, (centX,centY-60), 25, (255,255,255), -1)\n",
        "      out_img = cv2.circle(out_img, (centX,centY+120), 25, (255,255,255), -1)\n",
        "      centX = centX +120\n",
        "      out_img = cv2.circle(out_img, (centX,centY-120), 25, (255,255,255), -1)\n",
        "      out_img = cv2.circle(out_img, (centX,centY-60), 25, (255,255,255), -1)\n",
        "      out_img = cv2.circle(out_img, (centX,centY), 25, (255,255,255), -1)\n",
        "      out_img = cv2.circle(out_img, (centX,centY+60), 25, (255,255,255), -1)\n",
        "      out_img = cv2.circle(out_img, (centX,centY+120), 25, (255,255,255), -1)\n",
        "    def draw0(out_img, centX, centY):\n",
        "      out_img = cv2.circle(out_img, (centX,centY-120), 25, (255,255,255), -1)\n",
        "      out_img = cv2.circle(out_img, (centX,centY+120), 25, (255,255,255), -1)\n",
        "      centX = centX - 60\n",
        "      out_img = cv2.circle(out_img, (centX,centY-120), 25, (255,255,255), -1)\n",
        "      out_img = cv2.circle(out_img, (centX,centY-60), 25, (255,255,255), -1)\n",
        "      out_img = cv2.circle(out_img, (centX,centY), 25, (255,255,255), -1)\n",
        "      out_img = cv2.circle(out_img, (centX,centY+60), 25, (255,255,255), -1)\n",
        "      out_img = cv2.circle(out_img, (centX,centY+120), 25, (255,255,255), -1)\n",
        "      centX = centX +120\n",
        "      out_img = cv2.circle(out_img, (centX,centY-120), 25, (255,255,255), -1)\n",
        "      out_img = cv2.circle(out_img, (centX,centY-60), 25, (255,255,255), -1)\n",
        "      out_img = cv2.circle(out_img, (centX,centY), 25, (255,255,255), -1)\n",
        "      out_img = cv2.circle(out_img, (centX,centY+60), 25, (255,255,255), -1)\n",
        "      out_img = cv2.circle(out_img, (centX,centY+120), 25, (255,255,255), -1)\n",
        "    centX = 90\n",
        "    centY = 150\n",
        "    numb = N//100\n",
        "    if numb == 1:\n",
        "      draw1(out_img, centX, centY)\n",
        "    elif numb == 2:\n",
        "      draw2(out_img, centX, centY)\n",
        "    elif numb == 3:\n",
        "      draw3(out_img, centX, centY)\n",
        "    elif numb == 4:\n",
        "      draw4(out_img, centX, centY)\n",
        "    elif numb == 5:\n",
        "      draw5(out_img, centX, centY)\n",
        "    elif numb == 6:\n",
        "      draw6(out_img, centX, centY)\n",
        "    elif numb == 7:\n",
        "      draw7(out_img, centX, centY)\n",
        "    elif numb == 8:\n",
        "      draw8(out_img, centX, centY)\n",
        "    elif numb == 9:\n",
        "      draw9(out_img, centX, centY)\n",
        "    elif numb == 0:\n",
        "      draw0(out_img, centX, centY)\n",
        "    N = N%100\n",
        "    numb = N//10\n",
        "    centX = centX + 240\n",
        "    if numb == 1:\n",
        "      draw1(out_img, centX, centY)\n",
        "    elif numb == 2:\n",
        "      draw2(out_img, centX, centY)\n",
        "    elif numb == 3:\n",
        "      draw3(out_img, centX, centY)\n",
        "    elif numb == 4:\n",
        "      draw4(out_img, centX, centY)\n",
        "    elif numb == 5:\n",
        "      draw5(out_img, centX, centY)\n",
        "    elif numb == 6:\n",
        "      draw6(out_img, centX, centY)\n",
        "    elif numb == 7:\n",
        "      draw7(out_img, centX, centY)\n",
        "    elif numb == 8:\n",
        "      draw8(out_img, centX, centY)\n",
        "    elif numb == 9:\n",
        "      draw9(out_img, centX, centY)\n",
        "    elif numb == 0:\n",
        "      draw0(out_img, centX, centY)\n",
        "    numb = N%10\n",
        "    centX = centX + 240\n",
        "    if numb == 1:\n",
        "      draw1(out_img, centX, centY)\n",
        "    elif numb == 2:\n",
        "      draw2(out_img, centX, centY)\n",
        "    elif numb == 3:\n",
        "      draw3(out_img, centX, centY)\n",
        "    elif numb == 4:\n",
        "      draw4(out_img, centX, centY)\n",
        "    elif numb == 5:\n",
        "      draw5(out_img, centX, centY)\n",
        "    elif numb == 6:\n",
        "      draw6(out_img, centX, centY)\n",
        "    elif numb == 7:\n",
        "      draw7(out_img, centX, centY)\n",
        "    elif numb == 8:\n",
        "      draw8(out_img, centX, centY)\n",
        "    elif numb == 9:\n",
        "      draw9(out_img, centX, centY)\n",
        "    elif numb == 0:\n",
        "      draw0(out_img, centX, centY)\n",
        "\n",
        "    #############################\n",
        "    # End your code here ########\n",
        "    #############################    \n",
        "    \n",
        "    return np.uint8(out_img)"
      ],
      "execution_count": null,
      "outputs": []
    },
    {
      "cell_type": "code",
      "metadata": {
        "id": "LzdZ6nMSQwcr",
        "colab_type": "code",
        "colab": {
          "base_uri": "https://localhost:8080/",
          "height": 317
        },
        "outputId": "a4f0956e-ffda-46b8-de53-21b5e93d6f5f"
      },
      "source": [
        "# Test Run\n",
        "img = generate_number_display()\n",
        "cv2_imshow(img)"
      ],
      "execution_count": null,
      "outputs": [
        {
          "output_type": "display_data",
          "data": {
            "image/png": "[encoded data removed]",
            "text/plain": [
              "<PIL.Image.Image image mode=L size=660x300 at 0x7F701E66BBE0>"
            ]
          },
          "metadata": {
            "tags": []
          }
        }
      ]
    },
    {
      "cell_type": "code",
      "metadata": {
        "id": "dQcTv6zcQwct",
        "colab_type": "code",
        "colab": {}
      },
      "source": [
        "# Submission >>>>>>>>>>>>>>>>>>>>>\n",
        "# Do not change codes inside this cell otherwise our autograder will fail.\n",
        "\n",
        "test_numbers = [604, 987, 645, 159, 963, 248]\n",
        "\n",
        "gen_imgs = []\n",
        "for N in test_numbers:\n",
        "    gen_imgs.append(generate_number_display(N=N))\n",
        "    \n",
        "task1_submission = np.array(gen_imgs)"
      ],
      "execution_count": null,
      "outputs": []
    }
  ]
}