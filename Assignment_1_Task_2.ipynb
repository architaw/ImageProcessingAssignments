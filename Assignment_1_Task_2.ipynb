{
  "nbformat": 4,
  "nbformat_minor": 0,
  "metadata": {
    "kernelspec": {
      "display_name": "Python 3",
      "language": "python",
      "name": "python3"
    },
    "language_info": {
      "codemirror_mode": {
        "name": "ipython",
        "version": 3
      },
      "file_extension": ".py",
      "mimetype": "text/x-python",
      "name": "python",
      "nbconvert_exporter": "python",
      "pygments_lexer": "ipython3",
      "version": "3.7.6"
    },
    "colab": {
      "name": "Assignment_1_Task_2.ipynb",
      "provenance": [],
      "include_colab_link": true
    }
  },
  "cells": [
    {
      "cell_type": "markdown",
      "metadata": {
        "id": "view-in-github",
        "colab_type": "text"
      },
      "source": [
        "<a href=\"https://colab.research.google.com/github/architaw/ImageProcessingAssignments/blob/master/Assignment_1_Task_2.ipynb\" target=\"_parent\"><img src=\"https://colab.research.google.com/assets/colab-badge.svg\" alt=\"Open In Colab\"/></a>"
      ]
    },
    {
      "cell_type": "code",
      "metadata": {
        "id": "WAMu7MMhwttu",
        "colab_type": "code",
        "colab": {}
      },
      "source": [
        "# Copyright 2020 IITK EE604A Image Processing. All Rights Reserved.\n",
        "# \n",
        "# Licensed under the MIT License. Use and/or modification of this code outside of EE604 must reference:\n",
        "#\n",
        "# © IITK EE604A Image Processing \n",
        "# https://github.com/ee604/ee604_assignments\n",
        "#\n",
        "# Author: Shashi Kant Gupta, Chiranjeev Prachand and Prof K. S. Venkatesh, Department of Electrical Engineering, IIT Kanpur"
      ],
      "execution_count": null,
      "outputs": []
    },
    {
      "cell_type": "markdown",
      "metadata": {
        "id": "55-GRmtJwttz",
        "colab_type": "text"
      },
      "source": [
        "# Task 2: Image resizing (Upsampling / Downsampling)\n",
        "\n",
        "Note that in digital image processing upsampling or downsampling simply means resizing your image. When you upsample you zoom the image and vice-versa. We will use two different spatial domain approach (interpolation method) to achieve this:\n",
        "1. Nearest Neighbour interpolation/ Pixel replication method [Wiki](https://en.wikipedia.org/wiki/Nearest-neighbor_interpolation)\n",
        "2. Bilinear interpolation method [Wiki](https://en.wikipedia.org/wiki/Bilinear_interpolation)\n",
        "\n",
        "In this assignment we will will not analyse the frequency domain signal."
      ]
    },
    {
      "cell_type": "code",
      "metadata": {
        "id": "9pAeYhF9wttz",
        "colab_type": "code",
        "colab": {
          "base_uri": "https://localhost:8080/",
          "height": 222
        },
        "outputId": "b5e203a9-3f27-4c0b-90d2-80e510122f92"
      },
      "source": [
        "%%bash\n",
        "pip install git+https://github.com/ee604/ee604_plugins"
      ],
      "execution_count": null,
      "outputs": [
        {
          "output_type": "stream",
          "text": [
            "Collecting git+https://github.com/ee604/ee604_plugins\n",
            "  Cloning https://github.com/ee604/ee604_plugins to /tmp/pip-req-build-vzp6pemd\n",
            "Building wheels for collected packages: ee604-plugins\n",
            "  Building wheel for ee604-plugins (setup.py): started\n",
            "  Building wheel for ee604-plugins (setup.py): finished with status 'done'\n",
            "  Created wheel for ee604-plugins: filename=ee604_plugins-0.1.4-cp36-none-any.whl size=2305 sha256=5ee042ab0f26569c2f8e2a5b90e6ffc08209cd5eb33505d99b2a8093283de861\n",
            "  Stored in directory: /tmp/pip-ephem-wheel-cache-yecswaic/wheels/34/a8/1d/ae3b7d209ecde89b4800a47ec55a61e7503bb9548bbb975806\n",
            "Successfully built ee604-plugins\n",
            "Installing collected packages: ee604-plugins\n",
            "Successfully installed ee604-plugins-0.1.4\n"
          ],
          "name": "stdout"
        },
        {
          "output_type": "stream",
          "text": [
            "  Running command git clone -q https://github.com/ee604/ee604_plugins /tmp/pip-req-build-vzp6pemd\n"
          ],
          "name": "stderr"
        }
      ]
    },
    {
      "cell_type": "code",
      "metadata": {
        "id": "pdiaO78gwtt4",
        "colab_type": "code",
        "colab": {
          "base_uri": "https://localhost:8080/",
          "height": 34
        },
        "outputId": "3a19e3ae-3134-4951-c195-214302eb0008"
      },
      "source": [
        "# Importing required libraries\n",
        "\n",
        "import cv2\n",
        "import numpy as np\n",
        "import matplotlib.pyplot as plt\n",
        "\n",
        "from ee604_plugins import download_dataset, cv2_imshow\n",
        "\n",
        "download_dataset(assignment_no=1, task_no=2) # download data for this assignment"
      ],
      "execution_count": null,
      "outputs": [
        {
          "output_type": "stream",
          "text": [
            "Download Complete!\n"
          ],
          "name": "stdout"
        }
      ]
    },
    {
      "cell_type": "code",
      "metadata": {
        "id": "zsiqN1u-wtt6",
        "colab_type": "code",
        "colab": {}
      },
      "source": [
        "data = cv2.imread(\"data/parallel_lines.jpg\")\n",
        "img = data"
      ],
      "execution_count": null,
      "outputs": []
    },
    {
      "cell_type": "code",
      "metadata": {
        "id": "XuifyOVVwtt8",
        "colab_type": "code",
        "colab": {}
      },
      "source": [
        "def resize_nn(img, k=1):\n",
        "    '''\n",
        "    Write a program to resample the given image by a factor 'k' using Nearest Neighbour method\n",
        "    \n",
        "    Inputs:\n",
        "    + img - Original image\n",
        "    + k - resampling factor, therefore if input image size is 300x300 \n",
        "        - and k=0.5 ==> output image size = 150x150\n",
        "    \n",
        "    Ouputs:\n",
        "    + out_img - numpy array (of dtype np.uint8) containing the output image.\n",
        "    \n",
        "    Allowed external package:\n",
        "    + You are not allowed to use any cv2 resize module or any other external package. \n",
        "    \n",
        "    '''\n",
        "    \n",
        "    #############################\n",
        "    # Start your code from here #\n",
        "    #############################\n",
        "    a, b = img.shape[:2]\n",
        "\n",
        "    newX = int(a*k)\n",
        "    newY = int(b*k)\n",
        "    scaleX = newX/(a-1)\n",
        "    scaleY = newY/(b-1)\n",
        "\n",
        "    out_img = np.zeros([newX, newY, 3])\n",
        "    for i in range(newX-1):\n",
        "      for j in range(newY-1):\n",
        "        out_img[i+1, j+1] = img[1+int(i/scaleX), 1+int(j/scaleY)]\n",
        "    #############################\n",
        "    # End your code here ########\n",
        "    #############################    \n",
        "    \n",
        "    return out_img"
      ],
      "execution_count": null,
      "outputs": []
    },
    {
      "cell_type": "code",
      "metadata": {
        "id": "QoL6U_15z833",
        "colab_type": "code",
        "colab": {
          "base_uri": "https://localhost:8080/",
          "height": 529
        },
        "outputId": "04622339-b9ee-43c0-f682-324e8aa36dfe"
      },
      "source": [
        "# Test Run\n",
        "img1 = resize_nn(img, 1)\n",
        "cv2_imshow(img1)"
      ],
      "execution_count": null,
      "outputs": [
        {
          "output_type": "display_data",
          "data": {
            "image/png": "[encoded data removed]",
            "text/plain": [
              "<PIL.Image.Image image mode=RGB size=512x512 at 0x7FC8ADFB0D30>"
            ]
          },
          "metadata": {
            "tags": []
          }
        }
      ]
    },
    {
      "cell_type": "code",
      "metadata": {
        "id": "cTfawHefwtt_",
        "colab_type": "code",
        "colab": {}
      },
      "source": [
        "def resize_bilinear(img, k=1):\n",
        "    '''\n",
        "    Write a program to resample the given image by a factor 'k' using Bilinear interpolation method.\n",
        "    \n",
        "    Inputs:\n",
        "    + img - Original image\n",
        "    + k - resampling factor\n",
        "    \n",
        "    Ouputs:\n",
        "    + out_img - numpy array (of dtype np.uint8) containing the output image.\n",
        "    \n",
        "    Allowed external package:\n",
        "    + You are not allowed to use any cv2 resize module or any other external package. \n",
        "    \n",
        "    '''\n",
        "    \n",
        "    #############################\n",
        "    # Start your code from here #\n",
        "    #############################\n",
        "    \n",
        "    # Replace with your code...\n",
        "    \n",
        "    #############################\n",
        "    # End your code here ########\n",
        "    #############################    \n",
        "    \n",
        "    return out_img"
      ],
      "execution_count": null,
      "outputs": []
    },
    {
      "cell_type": "markdown",
      "metadata": {
        "id": "CtszADVZwtuC",
        "colab_type": "text"
      },
      "source": [
        "#### Sample the given image for following values of k = 0.5, 0.51, 0.99, 2, 2.1 using both the methods. \n",
        "Plot the images using `cv2_imshow` and write your observation on the differences with an intuitive explanation.\n"
      ]
    },
    {
      "cell_type": "code",
      "metadata": {
        "id": "eq9O3Q1owtuC",
        "colab_type": "code",
        "colab": {}
      },
      "source": [
        "orig_img = np.copy(data) # Resample this image\n",
        "\n",
        "#############################\n",
        "# Start your code from here #\n",
        "#############################\n",
        "\n",
        "# Replace with your code...\n",
        "\n",
        "#############################\n",
        "# End your code here ########\n",
        "#############################  "
      ],
      "execution_count": null,
      "outputs": []
    },
    {
      "cell_type": "code",
      "metadata": {
        "id": "HUCA0MPUwtuF",
        "colab_type": "code",
        "colab": {},
        "outputId": "6cfe8635-6171-4d98-e1ad-e39312482939"
      },
      "source": [
        "your_observation = \"\"\"\n",
        "Replace this with your observations.\n",
        "\"\"\"\n",
        "\n",
        "print(your_observation)"
      ],
      "execution_count": null,
      "outputs": [
        {
          "output_type": "stream",
          "text": [
            "\n",
            "Replace this text with your observations.\n",
            "\n"
          ],
          "name": "stdout"
        }
      ]
    }
  ]
}